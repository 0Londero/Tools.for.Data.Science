{
 "cells": [
  {
   "metadata": {},
   "cell_type": "markdown",
   "source": "## Lab 07 by: Otávio Londero\n",
   "id": "1d573320098aeab"
  },
  {
   "metadata": {},
   "cell_type": "markdown",
   "source": [
    "1. Data Preparation and Exploration:\n",
    "- Load the `movies.csv` and `reviews.csv` datasets into pandas dataframes.\n",
    "- Display summary statistics and the first few rows of each dataframe to understand their structure.\n"
   ],
   "id": "5ee06c4870dbe8a8"
  },
  {
   "metadata": {
    "ExecuteTime": {
     "end_time": "2025-03-04T22:55:57.581432Z",
     "start_time": "2025-03-04T22:55:57.575799Z"
    }
   },
   "cell_type": "code",
   "source": [
    "import pandas as pd # import\n",
    "import matplotlib.pyplot as plt\n",
    "\n",
    "# load the datasets\n",
    "movies = pd.read_csv('movies.csv')\n",
    "reviews = pd.read_csv('reviews.csv')"
   ],
   "id": "c7a83a5f15486ffe",
   "outputs": [],
   "execution_count": 68
  },
  {
   "metadata": {
    "ExecuteTime": {
     "end_time": "2025-03-04T21:58:41.429978Z",
     "start_time": "2025-03-04T21:58:41.416283Z"
    }
   },
   "cell_type": "code",
   "source": "movies.head(5)",
   "id": "680fd308ce74fdd9",
   "outputs": [
    {
     "data": {
      "text/plain": [
       "   movie_id                     title   genre  release_year\n",
       "0         1  The Shawshank Redemption   Drama          1999\n",
       "1         2             The Godfather   Drama          1987\n",
       "2         3           The Dark Knight   Drama          1993\n",
       "3         4          Schindler's List   Crime          2002\n",
       "4         5              Pulp Fiction  Action          1980"
      ],
      "text/html": [
       "<div>\n",
       "<style scoped>\n",
       "    .dataframe tbody tr th:only-of-type {\n",
       "        vertical-align: middle;\n",
       "    }\n",
       "\n",
       "    .dataframe tbody tr th {\n",
       "        vertical-align: top;\n",
       "    }\n",
       "\n",
       "    .dataframe thead th {\n",
       "        text-align: right;\n",
       "    }\n",
       "</style>\n",
       "<table border=\"1\" class=\"dataframe\">\n",
       "  <thead>\n",
       "    <tr style=\"text-align: right;\">\n",
       "      <th></th>\n",
       "      <th>movie_id</th>\n",
       "      <th>title</th>\n",
       "      <th>genre</th>\n",
       "      <th>release_year</th>\n",
       "    </tr>\n",
       "  </thead>\n",
       "  <tbody>\n",
       "    <tr>\n",
       "      <th>0</th>\n",
       "      <td>1</td>\n",
       "      <td>The Shawshank Redemption</td>\n",
       "      <td>Drama</td>\n",
       "      <td>1999</td>\n",
       "    </tr>\n",
       "    <tr>\n",
       "      <th>1</th>\n",
       "      <td>2</td>\n",
       "      <td>The Godfather</td>\n",
       "      <td>Drama</td>\n",
       "      <td>1987</td>\n",
       "    </tr>\n",
       "    <tr>\n",
       "      <th>2</th>\n",
       "      <td>3</td>\n",
       "      <td>The Dark Knight</td>\n",
       "      <td>Drama</td>\n",
       "      <td>1993</td>\n",
       "    </tr>\n",
       "    <tr>\n",
       "      <th>3</th>\n",
       "      <td>4</td>\n",
       "      <td>Schindler's List</td>\n",
       "      <td>Crime</td>\n",
       "      <td>2002</td>\n",
       "    </tr>\n",
       "    <tr>\n",
       "      <th>4</th>\n",
       "      <td>5</td>\n",
       "      <td>Pulp Fiction</td>\n",
       "      <td>Action</td>\n",
       "      <td>1980</td>\n",
       "    </tr>\n",
       "  </tbody>\n",
       "</table>\n",
       "</div>"
      ]
     },
     "execution_count": 2,
     "metadata": {},
     "output_type": "execute_result"
    }
   ],
   "execution_count": 2
  },
  {
   "metadata": {
    "ExecuteTime": {
     "end_time": "2025-03-04T21:58:41.839858Z",
     "start_time": "2025-03-04T21:58:41.834592Z"
    }
   },
   "cell_type": "code",
   "source": "reviews.head(5)",
   "id": "8bc8af2880f9d79a",
   "outputs": [
    {
     "data": {
      "text/plain": [
       "   review_id  movie_id      reviewer  rating review_date\n",
       "0          1        96      Jane Doe     8.0  2020-02-17\n",
       "1          2        90  Victor Scott     1.8  2020-08-22\n",
       "2          3        32    Yara Baker     1.8  2020-03-10\n",
       "3          4        77  Victor Scott     5.2  2020-04-24\n",
       "4          5        16  Mia Martinez     6.3  2020-04-13"
      ],
      "text/html": [
       "<div>\n",
       "<style scoped>\n",
       "    .dataframe tbody tr th:only-of-type {\n",
       "        vertical-align: middle;\n",
       "    }\n",
       "\n",
       "    .dataframe tbody tr th {\n",
       "        vertical-align: top;\n",
       "    }\n",
       "\n",
       "    .dataframe thead th {\n",
       "        text-align: right;\n",
       "    }\n",
       "</style>\n",
       "<table border=\"1\" class=\"dataframe\">\n",
       "  <thead>\n",
       "    <tr style=\"text-align: right;\">\n",
       "      <th></th>\n",
       "      <th>review_id</th>\n",
       "      <th>movie_id</th>\n",
       "      <th>reviewer</th>\n",
       "      <th>rating</th>\n",
       "      <th>review_date</th>\n",
       "    </tr>\n",
       "  </thead>\n",
       "  <tbody>\n",
       "    <tr>\n",
       "      <th>0</th>\n",
       "      <td>1</td>\n",
       "      <td>96</td>\n",
       "      <td>Jane Doe</td>\n",
       "      <td>8.0</td>\n",
       "      <td>2020-02-17</td>\n",
       "    </tr>\n",
       "    <tr>\n",
       "      <th>1</th>\n",
       "      <td>2</td>\n",
       "      <td>90</td>\n",
       "      <td>Victor Scott</td>\n",
       "      <td>1.8</td>\n",
       "      <td>2020-08-22</td>\n",
       "    </tr>\n",
       "    <tr>\n",
       "      <th>2</th>\n",
       "      <td>3</td>\n",
       "      <td>32</td>\n",
       "      <td>Yara Baker</td>\n",
       "      <td>1.8</td>\n",
       "      <td>2020-03-10</td>\n",
       "    </tr>\n",
       "    <tr>\n",
       "      <th>3</th>\n",
       "      <td>4</td>\n",
       "      <td>77</td>\n",
       "      <td>Victor Scott</td>\n",
       "      <td>5.2</td>\n",
       "      <td>2020-04-24</td>\n",
       "    </tr>\n",
       "    <tr>\n",
       "      <th>4</th>\n",
       "      <td>5</td>\n",
       "      <td>16</td>\n",
       "      <td>Mia Martinez</td>\n",
       "      <td>6.3</td>\n",
       "      <td>2020-04-13</td>\n",
       "    </tr>\n",
       "  </tbody>\n",
       "</table>\n",
       "</div>"
      ]
     },
     "execution_count": 3,
     "metadata": {},
     "output_type": "execute_result"
    }
   ],
   "execution_count": 3
  },
  {
   "metadata": {
    "ExecuteTime": {
     "end_time": "2025-03-04T21:58:41.931825Z",
     "start_time": "2025-03-04T21:58:41.924622Z"
    }
   },
   "cell_type": "code",
   "source": "movies.describe()",
   "id": "6d211df2dd0874c9",
   "outputs": [
    {
     "data": {
      "text/plain": [
       "         movie_id  release_year\n",
       "count  100.000000    100.000000\n",
       "mean    50.500000   2001.670000\n",
       "std     29.011492     13.758417\n",
       "min      1.000000   1980.000000\n",
       "25%     25.750000   1988.000000\n",
       "50%     50.500000   2001.500000\n",
       "75%     75.250000   2014.250000\n",
       "max    100.000000   2023.000000"
      ],
      "text/html": [
       "<div>\n",
       "<style scoped>\n",
       "    .dataframe tbody tr th:only-of-type {\n",
       "        vertical-align: middle;\n",
       "    }\n",
       "\n",
       "    .dataframe tbody tr th {\n",
       "        vertical-align: top;\n",
       "    }\n",
       "\n",
       "    .dataframe thead th {\n",
       "        text-align: right;\n",
       "    }\n",
       "</style>\n",
       "<table border=\"1\" class=\"dataframe\">\n",
       "  <thead>\n",
       "    <tr style=\"text-align: right;\">\n",
       "      <th></th>\n",
       "      <th>movie_id</th>\n",
       "      <th>release_year</th>\n",
       "    </tr>\n",
       "  </thead>\n",
       "  <tbody>\n",
       "    <tr>\n",
       "      <th>count</th>\n",
       "      <td>100.000000</td>\n",
       "      <td>100.000000</td>\n",
       "    </tr>\n",
       "    <tr>\n",
       "      <th>mean</th>\n",
       "      <td>50.500000</td>\n",
       "      <td>2001.670000</td>\n",
       "    </tr>\n",
       "    <tr>\n",
       "      <th>std</th>\n",
       "      <td>29.011492</td>\n",
       "      <td>13.758417</td>\n",
       "    </tr>\n",
       "    <tr>\n",
       "      <th>min</th>\n",
       "      <td>1.000000</td>\n",
       "      <td>1980.000000</td>\n",
       "    </tr>\n",
       "    <tr>\n",
       "      <th>25%</th>\n",
       "      <td>25.750000</td>\n",
       "      <td>1988.000000</td>\n",
       "    </tr>\n",
       "    <tr>\n",
       "      <th>50%</th>\n",
       "      <td>50.500000</td>\n",
       "      <td>2001.500000</td>\n",
       "    </tr>\n",
       "    <tr>\n",
       "      <th>75%</th>\n",
       "      <td>75.250000</td>\n",
       "      <td>2014.250000</td>\n",
       "    </tr>\n",
       "    <tr>\n",
       "      <th>max</th>\n",
       "      <td>100.000000</td>\n",
       "      <td>2023.000000</td>\n",
       "    </tr>\n",
       "  </tbody>\n",
       "</table>\n",
       "</div>"
      ]
     },
     "execution_count": 4,
     "metadata": {},
     "output_type": "execute_result"
    }
   ],
   "execution_count": 4
  },
  {
   "metadata": {
    "ExecuteTime": {
     "end_time": "2025-03-04T21:58:42.182774Z",
     "start_time": "2025-03-04T21:58:42.173759Z"
    }
   },
   "cell_type": "code",
   "source": "reviews.describe()",
   "id": "a5ee4897c34cce0f",
   "outputs": [
    {
     "data": {
      "text/plain": [
       "        review_id   movie_id      rating\n",
       "count  300.000000  300.00000  300.000000\n",
       "mean   150.500000   52.99000    5.328333\n",
       "std     86.746758   27.98835    2.580354\n",
       "min      1.000000    1.00000    1.000000\n",
       "25%     75.750000   29.75000    3.000000\n",
       "50%    150.500000   54.00000    5.200000\n",
       "75%    225.250000   76.25000    7.400000\n",
       "max    300.000000  100.00000   10.000000"
      ],
      "text/html": [
       "<div>\n",
       "<style scoped>\n",
       "    .dataframe tbody tr th:only-of-type {\n",
       "        vertical-align: middle;\n",
       "    }\n",
       "\n",
       "    .dataframe tbody tr th {\n",
       "        vertical-align: top;\n",
       "    }\n",
       "\n",
       "    .dataframe thead th {\n",
       "        text-align: right;\n",
       "    }\n",
       "</style>\n",
       "<table border=\"1\" class=\"dataframe\">\n",
       "  <thead>\n",
       "    <tr style=\"text-align: right;\">\n",
       "      <th></th>\n",
       "      <th>review_id</th>\n",
       "      <th>movie_id</th>\n",
       "      <th>rating</th>\n",
       "    </tr>\n",
       "  </thead>\n",
       "  <tbody>\n",
       "    <tr>\n",
       "      <th>count</th>\n",
       "      <td>300.000000</td>\n",
       "      <td>300.00000</td>\n",
       "      <td>300.000000</td>\n",
       "    </tr>\n",
       "    <tr>\n",
       "      <th>mean</th>\n",
       "      <td>150.500000</td>\n",
       "      <td>52.99000</td>\n",
       "      <td>5.328333</td>\n",
       "    </tr>\n",
       "    <tr>\n",
       "      <th>std</th>\n",
       "      <td>86.746758</td>\n",
       "      <td>27.98835</td>\n",
       "      <td>2.580354</td>\n",
       "    </tr>\n",
       "    <tr>\n",
       "      <th>min</th>\n",
       "      <td>1.000000</td>\n",
       "      <td>1.00000</td>\n",
       "      <td>1.000000</td>\n",
       "    </tr>\n",
       "    <tr>\n",
       "      <th>25%</th>\n",
       "      <td>75.750000</td>\n",
       "      <td>29.75000</td>\n",
       "      <td>3.000000</td>\n",
       "    </tr>\n",
       "    <tr>\n",
       "      <th>50%</th>\n",
       "      <td>150.500000</td>\n",
       "      <td>54.00000</td>\n",
       "      <td>5.200000</td>\n",
       "    </tr>\n",
       "    <tr>\n",
       "      <th>75%</th>\n",
       "      <td>225.250000</td>\n",
       "      <td>76.25000</td>\n",
       "      <td>7.400000</td>\n",
       "    </tr>\n",
       "    <tr>\n",
       "      <th>max</th>\n",
       "      <td>300.000000</td>\n",
       "      <td>100.00000</td>\n",
       "      <td>10.000000</td>\n",
       "    </tr>\n",
       "  </tbody>\n",
       "</table>\n",
       "</div>"
      ]
     },
     "execution_count": 5,
     "metadata": {},
     "output_type": "execute_result"
    }
   ],
   "execution_count": 5
  },
  {
   "metadata": {},
   "cell_type": "markdown",
   "source": [
    "2. Highest Rated Movies:\n",
    "- Perform an inner join on the `movies` and `reviews` dataframes based on the `movie_id` column.\n",
    "- Calculate the average rating for each movie.\n",
    "- Identify the top 10 highest-rated movies.\n",
    "- Display the titles and average ratings of these top 10 movies.\n"
   ],
   "id": "99f51c7cff6746e3"
  },
  {
   "metadata": {
    "ExecuteTime": {
     "end_time": "2025-03-04T21:58:42.363732Z",
     "start_time": "2025-03-04T21:58:42.349460Z"
    }
   },
   "cell_type": "code",
   "source": [
    "# example = pd.merge(left, right, how=\"inner\", on=[\"key1\", \"key2\"]) from: https://pandas.pydata.org/pandas-docs/stable/user_guide/merging.html#merge\n",
    "movies_reviews = pd.merge(movies, reviews, how='inner', on = 'movie_id')\n",
    "movies_reviews.head(10) # Making sure everything is correct"
   ],
   "id": "f8b87d09ff8ff3dd",
   "outputs": [
    {
     "data": {
      "text/plain": [
       "   movie_id                                          title  genre  \\\n",
       "0         1                       The Shawshank Redemption  Drama   \n",
       "1         1                       The Shawshank Redemption  Drama   \n",
       "2         1                       The Shawshank Redemption  Drama   \n",
       "3         1                       The Shawshank Redemption  Drama   \n",
       "4         3                                The Dark Knight  Drama   \n",
       "5         4                               Schindler's List  Crime   \n",
       "6         4                               Schindler's List  Crime   \n",
       "7         6  The Lord of the Rings: The Return of the King  Crime   \n",
       "8         6  The Lord of the Rings: The Return of the King  Crime   \n",
       "9         6  The Lord of the Rings: The Return of the King  Crime   \n",
       "\n",
       "   release_year  review_id      reviewer  rating review_date  \n",
       "0          1999         40     Ivy White     4.4  2020-04-04  \n",
       "1          1999        151  Quinn Walker     7.7  2020-01-23  \n",
       "2          1999        153  Sophia Allen     9.0  2020-01-27  \n",
       "3          1999        167  Henry Harris     8.7  2020-06-17  \n",
       "4          1993        129      Uma King     9.8  2020-03-12  \n",
       "5          2002        140    Yara Baker     7.1  2020-05-13  \n",
       "6          2002        208  Olivia Clark     2.5  2020-05-09  \n",
       "7          2010         20     Bob Brown     1.2  2020-02-08  \n",
       "8          2010         41  Henry Harris     1.5  2020-10-17  \n",
       "9          2010         46      Jane Doe     7.5  2020-07-31  "
      ],
      "text/html": [
       "<div>\n",
       "<style scoped>\n",
       "    .dataframe tbody tr th:only-of-type {\n",
       "        vertical-align: middle;\n",
       "    }\n",
       "\n",
       "    .dataframe tbody tr th {\n",
       "        vertical-align: top;\n",
       "    }\n",
       "\n",
       "    .dataframe thead th {\n",
       "        text-align: right;\n",
       "    }\n",
       "</style>\n",
       "<table border=\"1\" class=\"dataframe\">\n",
       "  <thead>\n",
       "    <tr style=\"text-align: right;\">\n",
       "      <th></th>\n",
       "      <th>movie_id</th>\n",
       "      <th>title</th>\n",
       "      <th>genre</th>\n",
       "      <th>release_year</th>\n",
       "      <th>review_id</th>\n",
       "      <th>reviewer</th>\n",
       "      <th>rating</th>\n",
       "      <th>review_date</th>\n",
       "    </tr>\n",
       "  </thead>\n",
       "  <tbody>\n",
       "    <tr>\n",
       "      <th>0</th>\n",
       "      <td>1</td>\n",
       "      <td>The Shawshank Redemption</td>\n",
       "      <td>Drama</td>\n",
       "      <td>1999</td>\n",
       "      <td>40</td>\n",
       "      <td>Ivy White</td>\n",
       "      <td>4.4</td>\n",
       "      <td>2020-04-04</td>\n",
       "    </tr>\n",
       "    <tr>\n",
       "      <th>1</th>\n",
       "      <td>1</td>\n",
       "      <td>The Shawshank Redemption</td>\n",
       "      <td>Drama</td>\n",
       "      <td>1999</td>\n",
       "      <td>151</td>\n",
       "      <td>Quinn Walker</td>\n",
       "      <td>7.7</td>\n",
       "      <td>2020-01-23</td>\n",
       "    </tr>\n",
       "    <tr>\n",
       "      <th>2</th>\n",
       "      <td>1</td>\n",
       "      <td>The Shawshank Redemption</td>\n",
       "      <td>Drama</td>\n",
       "      <td>1999</td>\n",
       "      <td>153</td>\n",
       "      <td>Sophia Allen</td>\n",
       "      <td>9.0</td>\n",
       "      <td>2020-01-27</td>\n",
       "    </tr>\n",
       "    <tr>\n",
       "      <th>3</th>\n",
       "      <td>1</td>\n",
       "      <td>The Shawshank Redemption</td>\n",
       "      <td>Drama</td>\n",
       "      <td>1999</td>\n",
       "      <td>167</td>\n",
       "      <td>Henry Harris</td>\n",
       "      <td>8.7</td>\n",
       "      <td>2020-06-17</td>\n",
       "    </tr>\n",
       "    <tr>\n",
       "      <th>4</th>\n",
       "      <td>3</td>\n",
       "      <td>The Dark Knight</td>\n",
       "      <td>Drama</td>\n",
       "      <td>1993</td>\n",
       "      <td>129</td>\n",
       "      <td>Uma King</td>\n",
       "      <td>9.8</td>\n",
       "      <td>2020-03-12</td>\n",
       "    </tr>\n",
       "    <tr>\n",
       "      <th>5</th>\n",
       "      <td>4</td>\n",
       "      <td>Schindler's List</td>\n",
       "      <td>Crime</td>\n",
       "      <td>2002</td>\n",
       "      <td>140</td>\n",
       "      <td>Yara Baker</td>\n",
       "      <td>7.1</td>\n",
       "      <td>2020-05-13</td>\n",
       "    </tr>\n",
       "    <tr>\n",
       "      <th>6</th>\n",
       "      <td>4</td>\n",
       "      <td>Schindler's List</td>\n",
       "      <td>Crime</td>\n",
       "      <td>2002</td>\n",
       "      <td>208</td>\n",
       "      <td>Olivia Clark</td>\n",
       "      <td>2.5</td>\n",
       "      <td>2020-05-09</td>\n",
       "    </tr>\n",
       "    <tr>\n",
       "      <th>7</th>\n",
       "      <td>6</td>\n",
       "      <td>The Lord of the Rings: The Return of the King</td>\n",
       "      <td>Crime</td>\n",
       "      <td>2010</td>\n",
       "      <td>20</td>\n",
       "      <td>Bob Brown</td>\n",
       "      <td>1.2</td>\n",
       "      <td>2020-02-08</td>\n",
       "    </tr>\n",
       "    <tr>\n",
       "      <th>8</th>\n",
       "      <td>6</td>\n",
       "      <td>The Lord of the Rings: The Return of the King</td>\n",
       "      <td>Crime</td>\n",
       "      <td>2010</td>\n",
       "      <td>41</td>\n",
       "      <td>Henry Harris</td>\n",
       "      <td>1.5</td>\n",
       "      <td>2020-10-17</td>\n",
       "    </tr>\n",
       "    <tr>\n",
       "      <th>9</th>\n",
       "      <td>6</td>\n",
       "      <td>The Lord of the Rings: The Return of the King</td>\n",
       "      <td>Crime</td>\n",
       "      <td>2010</td>\n",
       "      <td>46</td>\n",
       "      <td>Jane Doe</td>\n",
       "      <td>7.5</td>\n",
       "      <td>2020-07-31</td>\n",
       "    </tr>\n",
       "  </tbody>\n",
       "</table>\n",
       "</div>"
      ]
     },
     "execution_count": 6,
     "metadata": {},
     "output_type": "execute_result"
    }
   ],
   "execution_count": 6
  },
  {
   "metadata": {
    "ExecuteTime": {
     "end_time": "2025-03-04T21:58:42.605193Z",
     "start_time": "2025-03-04T21:58:42.591736Z"
    }
   },
   "cell_type": "code",
   "source": [
    "# top 10 : https://stackoverflow.com/questions/43859416/finding-top-10-in-a-dataframe-in-pandas\n",
    "# DataFrame.nlargest(n, columns, keep='first') : https://pandas.pydata.org/pandas-docs/version/0.23.0/generated/pandas.DataFrame.nlargest.html\n",
    "movies_reviews.groupby('title')['rating'].mean().nlargest(10)"
   ],
   "id": "41891cadcc04e2c1",
   "outputs": [
    {
     "data": {
      "text/plain": [
       "title\n",
       "The Dark Knight            9.800\n",
       "Vertigo                    9.350\n",
       "City Lights                9.250\n",
       "Jaws                       8.600\n",
       "Grave of the Fireflies     8.000\n",
       "Scarface                   8.000\n",
       "The Empire Strikes Back    8.000\n",
       "North by Northwest         7.650\n",
       "A Beautiful Mind           7.625\n",
       "Oldboy                     7.500\n",
       "Name: rating, dtype: float64"
      ]
     },
     "execution_count": 7,
     "metadata": {},
     "output_type": "execute_result"
    }
   ],
   "execution_count": 7
  },
  {
   "metadata": {
    "ExecuteTime": {
     "end_time": "2025-03-04T21:58:42.920940Z",
     "start_time": "2025-03-04T21:58:42.913731Z"
    }
   },
   "cell_type": "code",
   "source": [
    "# The transform() method allows you to execute a function for each value of the DataFrame: https://www.w3schools.com/python/pandas/ref_df_transform.asp\n",
    "movies_reviews['movie_average_rating'] = movies_reviews.groupby('movie_id')['rating'].transform('mean') # I wanted to create a hole new role of average_rating for each movie\n",
    "movies_reviews.head(10)"
   ],
   "id": "84899302c5182944",
   "outputs": [
    {
     "data": {
      "text/plain": [
       "   movie_id                                          title  genre  \\\n",
       "0         1                       The Shawshank Redemption  Drama   \n",
       "1         1                       The Shawshank Redemption  Drama   \n",
       "2         1                       The Shawshank Redemption  Drama   \n",
       "3         1                       The Shawshank Redemption  Drama   \n",
       "4         3                                The Dark Knight  Drama   \n",
       "5         4                               Schindler's List  Crime   \n",
       "6         4                               Schindler's List  Crime   \n",
       "7         6  The Lord of the Rings: The Return of the King  Crime   \n",
       "8         6  The Lord of the Rings: The Return of the King  Crime   \n",
       "9         6  The Lord of the Rings: The Return of the King  Crime   \n",
       "\n",
       "   release_year  review_id      reviewer  rating review_date  \\\n",
       "0          1999         40     Ivy White     4.4  2020-04-04   \n",
       "1          1999        151  Quinn Walker     7.7  2020-01-23   \n",
       "2          1999        153  Sophia Allen     9.0  2020-01-27   \n",
       "3          1999        167  Henry Harris     8.7  2020-06-17   \n",
       "4          1993        129      Uma King     9.8  2020-03-12   \n",
       "5          2002        140    Yara Baker     7.1  2020-05-13   \n",
       "6          2002        208  Olivia Clark     2.5  2020-05-09   \n",
       "7          2010         20     Bob Brown     1.2  2020-02-08   \n",
       "8          2010         41  Henry Harris     1.5  2020-10-17   \n",
       "9          2010         46      Jane Doe     7.5  2020-07-31   \n",
       "\n",
       "   movie_average_rating  \n",
       "0                  7.45  \n",
       "1                  7.45  \n",
       "2                  7.45  \n",
       "3                  7.45  \n",
       "4                  9.80  \n",
       "5                  4.80  \n",
       "6                  4.80  \n",
       "7                  4.48  \n",
       "8                  4.48  \n",
       "9                  4.48  "
      ],
      "text/html": [
       "<div>\n",
       "<style scoped>\n",
       "    .dataframe tbody tr th:only-of-type {\n",
       "        vertical-align: middle;\n",
       "    }\n",
       "\n",
       "    .dataframe tbody tr th {\n",
       "        vertical-align: top;\n",
       "    }\n",
       "\n",
       "    .dataframe thead th {\n",
       "        text-align: right;\n",
       "    }\n",
       "</style>\n",
       "<table border=\"1\" class=\"dataframe\">\n",
       "  <thead>\n",
       "    <tr style=\"text-align: right;\">\n",
       "      <th></th>\n",
       "      <th>movie_id</th>\n",
       "      <th>title</th>\n",
       "      <th>genre</th>\n",
       "      <th>release_year</th>\n",
       "      <th>review_id</th>\n",
       "      <th>reviewer</th>\n",
       "      <th>rating</th>\n",
       "      <th>review_date</th>\n",
       "      <th>movie_average_rating</th>\n",
       "    </tr>\n",
       "  </thead>\n",
       "  <tbody>\n",
       "    <tr>\n",
       "      <th>0</th>\n",
       "      <td>1</td>\n",
       "      <td>The Shawshank Redemption</td>\n",
       "      <td>Drama</td>\n",
       "      <td>1999</td>\n",
       "      <td>40</td>\n",
       "      <td>Ivy White</td>\n",
       "      <td>4.4</td>\n",
       "      <td>2020-04-04</td>\n",
       "      <td>7.45</td>\n",
       "    </tr>\n",
       "    <tr>\n",
       "      <th>1</th>\n",
       "      <td>1</td>\n",
       "      <td>The Shawshank Redemption</td>\n",
       "      <td>Drama</td>\n",
       "      <td>1999</td>\n",
       "      <td>151</td>\n",
       "      <td>Quinn Walker</td>\n",
       "      <td>7.7</td>\n",
       "      <td>2020-01-23</td>\n",
       "      <td>7.45</td>\n",
       "    </tr>\n",
       "    <tr>\n",
       "      <th>2</th>\n",
       "      <td>1</td>\n",
       "      <td>The Shawshank Redemption</td>\n",
       "      <td>Drama</td>\n",
       "      <td>1999</td>\n",
       "      <td>153</td>\n",
       "      <td>Sophia Allen</td>\n",
       "      <td>9.0</td>\n",
       "      <td>2020-01-27</td>\n",
       "      <td>7.45</td>\n",
       "    </tr>\n",
       "    <tr>\n",
       "      <th>3</th>\n",
       "      <td>1</td>\n",
       "      <td>The Shawshank Redemption</td>\n",
       "      <td>Drama</td>\n",
       "      <td>1999</td>\n",
       "      <td>167</td>\n",
       "      <td>Henry Harris</td>\n",
       "      <td>8.7</td>\n",
       "      <td>2020-06-17</td>\n",
       "      <td>7.45</td>\n",
       "    </tr>\n",
       "    <tr>\n",
       "      <th>4</th>\n",
       "      <td>3</td>\n",
       "      <td>The Dark Knight</td>\n",
       "      <td>Drama</td>\n",
       "      <td>1993</td>\n",
       "      <td>129</td>\n",
       "      <td>Uma King</td>\n",
       "      <td>9.8</td>\n",
       "      <td>2020-03-12</td>\n",
       "      <td>9.80</td>\n",
       "    </tr>\n",
       "    <tr>\n",
       "      <th>5</th>\n",
       "      <td>4</td>\n",
       "      <td>Schindler's List</td>\n",
       "      <td>Crime</td>\n",
       "      <td>2002</td>\n",
       "      <td>140</td>\n",
       "      <td>Yara Baker</td>\n",
       "      <td>7.1</td>\n",
       "      <td>2020-05-13</td>\n",
       "      <td>4.80</td>\n",
       "    </tr>\n",
       "    <tr>\n",
       "      <th>6</th>\n",
       "      <td>4</td>\n",
       "      <td>Schindler's List</td>\n",
       "      <td>Crime</td>\n",
       "      <td>2002</td>\n",
       "      <td>208</td>\n",
       "      <td>Olivia Clark</td>\n",
       "      <td>2.5</td>\n",
       "      <td>2020-05-09</td>\n",
       "      <td>4.80</td>\n",
       "    </tr>\n",
       "    <tr>\n",
       "      <th>7</th>\n",
       "      <td>6</td>\n",
       "      <td>The Lord of the Rings: The Return of the King</td>\n",
       "      <td>Crime</td>\n",
       "      <td>2010</td>\n",
       "      <td>20</td>\n",
       "      <td>Bob Brown</td>\n",
       "      <td>1.2</td>\n",
       "      <td>2020-02-08</td>\n",
       "      <td>4.48</td>\n",
       "    </tr>\n",
       "    <tr>\n",
       "      <th>8</th>\n",
       "      <td>6</td>\n",
       "      <td>The Lord of the Rings: The Return of the King</td>\n",
       "      <td>Crime</td>\n",
       "      <td>2010</td>\n",
       "      <td>41</td>\n",
       "      <td>Henry Harris</td>\n",
       "      <td>1.5</td>\n",
       "      <td>2020-10-17</td>\n",
       "      <td>4.48</td>\n",
       "    </tr>\n",
       "    <tr>\n",
       "      <th>9</th>\n",
       "      <td>6</td>\n",
       "      <td>The Lord of the Rings: The Return of the King</td>\n",
       "      <td>Crime</td>\n",
       "      <td>2010</td>\n",
       "      <td>46</td>\n",
       "      <td>Jane Doe</td>\n",
       "      <td>7.5</td>\n",
       "      <td>2020-07-31</td>\n",
       "      <td>4.48</td>\n",
       "    </tr>\n",
       "  </tbody>\n",
       "</table>\n",
       "</div>"
      ]
     },
     "execution_count": 8,
     "metadata": {},
     "output_type": "execute_result"
    }
   ],
   "execution_count": 8
  },
  {
   "metadata": {
    "ExecuteTime": {
     "end_time": "2025-03-04T21:58:44.126797Z",
     "start_time": "2025-03-04T21:58:43.159553Z"
    }
   },
   "cell_type": "code",
   "source": [
    "top_10_movies = movies_reviews.nlargest(10, 'movie_average_rating')\n",
    "top_10_movies.plot(x='title', y='movie_average_rating', kind='barh', color='olive', title='Top 10 Movies', legend=False, ylabel='Movies', xlabel='movie_average_rating',)"
   ],
   "id": "5ebf6032f4757eb3",
   "outputs": [
    {
     "data": {
      "text/plain": [
       "<Axes: title={'center': 'Top 10 Movies'}, xlabel='movie_average_rating', ylabel='Movies'>"
      ]
     },
     "execution_count": 9,
     "metadata": {},
     "output_type": "execute_result"
    },
    {
     "data": {
      "text/plain": [
       "<Figure size 640x480 with 1 Axes>"
      ],
      "image/png": "[encoded data removed]"
     },
     "metadata": {},
     "output_type": "display_data"
    }
   ],
   "execution_count": 9
  },
  {
   "metadata": {},
   "cell_type": "markdown",
   "source": [
    "3. Genre Analysis:\n",
    "- Group the joined dataframe by `genre` and calculate the average rating for each genre.\n",
    "- Determine which genre has the highest average rating.\n",
    "- Display the genres along with their average ratings.\n"
   ],
   "id": "b39adb640ec22fe8"
  },
  {
   "metadata": {
    "ExecuteTime": {
     "end_time": "2025-03-04T21:58:44.171179Z",
     "start_time": "2025-03-04T21:58:44.166020Z"
    }
   },
   "cell_type": "code",
   "source": [
    "# Answer\n",
    "movies_reviews.groupby('genre')['movie_average_rating'].mean().nlargest()"
   ],
   "id": "f71f2000730a8251",
   "outputs": [
    {
     "data": {
      "text/plain": [
       "genre\n",
       "Sci-Fi       6.118421\n",
       "Fantasy      5.768421\n",
       "Biography    5.279310\n",
       "Drama        5.204478\n",
       "Action       5.109375\n",
       "Name: movie_average_rating, dtype: float64"
      ]
     },
     "execution_count": 10,
     "metadata": {},
     "output_type": "execute_result"
    }
   ],
   "execution_count": 10
  },
  {
   "metadata": {
    "ExecuteTime": {
     "end_time": "2025-03-04T21:58:44.382891Z",
     "start_time": "2025-03-04T21:58:44.313593Z"
    }
   },
   "cell_type": "code",
   "source": [
    "# Plot\n",
    "movies_reviews.groupby('genre')['movie_average_rating'].mean().nlargest().plot(kind='barh', color='olive', xlabel='Rating', ylabel='Genre', legend=False, title='Genre Rating')"
   ],
   "id": "21eccb96f3bf7019",
   "outputs": [
    {
     "data": {
      "text/plain": [
       "<Axes: title={'center': 'Genre Rating'}, xlabel='Rating', ylabel='Genre'>"
      ]
     },
     "execution_count": 11,
     "metadata": {},
     "output_type": "execute_result"
    },
    {
     "data": {
      "text/plain": [
       "<Figure size 640x480 with 1 Axes>"
      ],
      "image/png": "[encoded data removed]"
     },
     "metadata": {},
     "output_type": "display_data"
    }
   ],
   "execution_count": 11
  },
  {
   "metadata": {},
   "cell_type": "markdown",
   "source": [
    "4. Reviewer Analysis:\n",
    "- Identify the top 5 reviewers who have given the most reviews.\n",
    "- Calculate the average rating given by each of these top 5 reviewers.\n",
    "- Display the reviewer names and their average ratings.\n"
   ],
   "id": "de0d7a0aeda1da3"
  },
  {
   "metadata": {
    "ExecuteTime": {
     "end_time": "2025-03-04T21:58:44.501231Z",
     "start_time": "2025-03-04T21:58:44.495281Z"
    }
   },
   "cell_type": "code",
   "source": "movies_reviews.groupby('reviewer')['rating'].mean().nlargest(5) # 2",
   "id": "95a0bc65da301549",
   "outputs": [
    {
     "data": {
      "text/plain": [
       "reviewer\n",
       "Jane Doe         7.300000\n",
       "Ryan Hall        7.030769\n",
       "Grace Lee        6.266667\n",
       "Charlie Davis    6.240000\n",
       "Mia Martinez     6.183333\n",
       "Name: rating, dtype: float64"
      ]
     },
     "execution_count": 12,
     "metadata": {},
     "output_type": "execute_result"
    }
   ],
   "execution_count": 12
  },
  {
   "metadata": {
    "ExecuteTime": {
     "end_time": "2025-03-04T21:58:44.590405Z",
     "start_time": "2025-03-04T21:58:44.582216Z"
    }
   },
   "cell_type": "code",
   "source": [
    "# function value_counts() : https://pandas.pydata.org/docs/reference/api/pandas.Series.value_counts.html\n",
    "movies_reviews['reviewer'].value_counts().nlargest(5) # 1"
   ],
   "id": "896092a97f19aaae",
   "outputs": [
    {
     "data": {
      "text/plain": [
       "reviewer\n",
       "Tom Young       18\n",
       "Uma King        16\n",
       "Henry Harris    15\n",
       "John Smith      14\n",
       "Olivia Clark    13\n",
       "Name: count, dtype: int64"
      ]
     },
     "execution_count": 13,
     "metadata": {},
     "output_type": "execute_result"
    }
   ],
   "execution_count": 13
  },
  {
   "metadata": {
    "ExecuteTime": {
     "end_time": "2025-03-04T21:58:44.680543Z",
     "start_time": "2025-03-04T21:58:44.676303Z"
    }
   },
   "cell_type": "code",
   "source": "movies_reviews.groupby('reviewer')['rating'].mean() # 3",
   "id": "9da3366493c6b00b",
   "outputs": [
    {
     "data": {
      "text/plain": [
       "reviewer\n",
       "Alice Johnson     6.141667\n",
       "Bob Brown         5.040000\n",
       "Charlie Davis     6.240000\n",
       "Emily Evans       4.410000\n",
       "Frank Wilson      4.366667\n",
       "Grace Lee         6.266667\n",
       "Henry Harris      4.473333\n",
       "Ivy White         4.669231\n",
       "Jack Martin       4.608333\n",
       "Jane Doe          7.300000\n",
       "John Smith        4.542857\n",
       "Kathy Thompson    4.981818\n",
       "Liam Garcia       5.230769\n",
       "Mia Martinez      6.183333\n",
       "Noah Robinson     4.900000\n",
       "Olivia Clark      6.023077\n",
       "Paul Lewis        5.633333\n",
       "Quinn Walker      5.640000\n",
       "Ryan Hall         7.030769\n",
       "Sophia Allen      5.087500\n",
       "Tom Young         5.400000\n",
       "Uma King          5.500000\n",
       "Victor Scott      3.311111\n",
       "Wendy Green       4.418182\n",
       "Xander Adams      4.800000\n",
       "Yara Baker        5.707692\n",
       "Zane Carter       5.611111\n",
       "Name: rating, dtype: float64"
      ]
     },
     "execution_count": 14,
     "metadata": {},
     "output_type": "execute_result"
    }
   ],
   "execution_count": 14
  },
  {
   "metadata": {},
   "cell_type": "markdown",
   "source": [
    "5. Time-Based Analysis:\n",
    "- Analyze how movie ratings have changed over time.\n",
    "- Group the joined dataframe by the month extracted from the `review_date`\n",
    "- column and calculate the average rating for each month.\n",
    "- Create a line plot showing the trend of average movie ratings over time.\n",
    "- Discuss any observable trends.\n"
   ],
   "id": "1ad45e6d46197954"
  },
  {
   "metadata": {
    "ExecuteTime": {
     "end_time": "2025-03-04T21:58:44.823065Z",
     "start_time": "2025-03-04T21:58:44.814298Z"
    }
   },
   "cell_type": "code",
   "source": [
    "# Transform `review_date` to a datetime format: https://pandas.pydata.org/docs/reference/api/pandas.to_datetime.html\n",
    "movies_reviews[\"review_date\"] = pd.to_datetime(movies_reviews[\"review_date\"])\n",
    "# Extract the year and month: https://pandas.pydata.org/docs/reference/api/pandas.Series.dt.to_period.html\n",
    "movies_reviews[\"year_month\"] = movies_reviews[\"review_date\"].dt.to_period(\"M\")"
   ],
   "id": "440702c09d7ec19b",
   "outputs": [],
   "execution_count": 15
  },
  {
   "metadata": {
    "ExecuteTime": {
     "end_time": "2025-03-04T21:58:45.241091Z",
     "start_time": "2025-03-04T21:58:44.917269Z"
    }
   },
   "cell_type": "code",
   "source": "movies_reviews.groupby(\"year_month\")[\"rating\"].mean().plot(kind=\"line\", figsize=(12, 6), ylabel=\"Average Rating\", xlabel=\"Year-Month\", title=\"Average Movie Ratings Over Month\", ) # 4",
   "id": "9de087df3b95b285",
   "outputs": [
    {
     "data": {
      "text/plain": [
       "<Axes: title={'center': 'Average Movie Ratings Over Month'}, xlabel='Year-Month', ylabel='Average Rating'>"
      ]
     },
     "execution_count": 16,
     "metadata": {},
     "output_type": "execute_result"
    },
    {
     "data": {
      "text/plain": [
       "<Figure size 1200x600 with 1 Axes>"
      ],
      "image/png": "[encoded data removed]"
     },
     "metadata": {},
     "output_type": "display_data"
    }
   ],
   "execution_count": 16
  },
  {
   "metadata": {},
   "cell_type": "markdown",
   "source": "The graph seems like a rollercoaster of ratings, where some months delivered hits, while others left reviewers unimpressed. Had a peak almost on the middle of the year, perhaps because of good movies releases.",
   "id": "9a352fc6efea9d3a"
  },
  {
   "metadata": {
    "ExecuteTime": {
     "end_time": "2025-03-04T21:58:45.249248Z",
     "start_time": "2025-03-04T21:58:45.245298Z"
    }
   },
   "cell_type": "code",
   "source": "movies_reviews[\"month_average_r\"] = movies_reviews.groupby(\"year_month\")[\"rating\"].transform(\"mean\")",
   "id": "b38ad5a139817769",
   "outputs": [],
   "execution_count": 17
  },
  {
   "metadata": {},
   "cell_type": "code",
   "outputs": [],
   "execution_count": null,
   "source": "",
   "id": "c17b314f45178e1e"
  },
  {
   "metadata": {},
   "cell_type": "markdown",
   "source": [
    "6. Movies with Most Reviews:\n",
    "- Identify the top 10 movies that have received the most reviews.\n",
    "- Display the titles of these movies along with the number of reviews they have received."
   ],
   "id": "23befa18b9ca47b2"
  },
  {
   "metadata": {
    "ExecuteTime": {
     "end_time": "2025-03-04T21:58:45.301945Z",
     "start_time": "2025-03-04T21:58:45.296801Z"
    }
   },
   "cell_type": "code",
   "source": "movies_reviews.groupby('title')['reviewer'].count().nlargest(10)",
   "id": "2fb2c4aa70560",
   "outputs": [
    {
     "data": {
      "text/plain": [
       "title\n",
       "Full Metal Jacket        7\n",
       "Interstellar             7\n",
       "Capernaum                6\n",
       "It's a Wonderful Life    6\n",
       "Memento                  6\n",
       "Paths of Glory           6\n",
       "Shutter Island           6\n",
       "The Revenant             6\n",
       "The Truman Show          6\n",
       "Amélie                   5\n",
       "Name: reviewer, dtype: int64"
      ]
     },
     "execution_count": 18,
     "metadata": {},
     "output_type": "execute_result"
    }
   ],
   "execution_count": 18
  },
  {
   "metadata": {
    "ExecuteTime": {
     "end_time": "2025-03-04T21:58:45.445915Z",
     "start_time": "2025-03-04T21:58:45.440773Z"
    }
   },
   "cell_type": "code",
   "source": "movies_reviews['title'].value_counts().nlargest(20)",
   "id": "a6bb5f7806460d2e",
   "outputs": [
    {
     "data": {
      "text/plain": [
       "title\n",
       "Interstellar                                     7\n",
       "Full Metal Jacket                                7\n",
       "Shutter Island                                   6\n",
       "It's a Wonderful Life                            6\n",
       "Memento                                          6\n",
       "Paths of Glory                                   6\n",
       "Capernaum                                        6\n",
       "The Revenant                                     6\n",
       "The Truman Show                                  6\n",
       "The Dark Knight Rises                            5\n",
       "Hara-Kiri                                        5\n",
       "The Lord of the Rings: The Return of the King    5\n",
       "Eternal Sunshine of the Spotless Mind            5\n",
       "Toy Story                                        5\n",
       "The Lives of Others                              5\n",
       "The Hunt                                         5\n",
       "Amélie                                           5\n",
       "Psycho                                           4\n",
       "Your Name                                        4\n",
       "The Great Dictator                               4\n",
       "Name: count, dtype: int64"
      ]
     },
     "execution_count": 19,
     "metadata": {},
     "output_type": "execute_result"
    }
   ],
   "execution_count": 19
  },
  {
   "metadata": {},
   "cell_type": "markdown",
   "source": [
    "7. Distribution of Ratings:\n",
    "- Create a histogram to visualize the distribution of ratings.\n",
    "- Analyze the distribution and discuss any skewness or patterns observed in the ratings.\n"
   ],
   "id": "f648f18178676131"
  },
  {
   "metadata": {
    "ExecuteTime": {
     "end_time": "2025-03-04T21:58:45.557837Z",
     "start_time": "2025-03-04T21:58:45.474361Z"
    }
   },
   "cell_type": "code",
   "source": "movies_reviews[\"rating\"].plot(kind=\"hist\", bins=20, alpha=0.7, edgecolor=\"black\", figsize=(10, 5), title=\"Distribution of Movie Ratings\")",
   "id": "86e30d47ab68fa9e",
   "outputs": [
    {
     "data": {
      "text/plain": [
       "<Axes: title={'center': 'Distribution of Movie Ratings'}, ylabel='Frequency'>"
      ]
     },
     "execution_count": 20,
     "metadata": {},
     "output_type": "execute_result"
    },
    {
     "data": {
      "text/plain": [
       "<Figure size 1000x500 with 1 Axes>"
      ],
      "image/png": "[encoded data removed]"
     },
     "metadata": {},
     "output_type": "display_data"
    }
   ],
   "execution_count": 20
  },
  {
   "metadata": {},
   "cell_type": "markdown",
   "source": "It's possible to see a growth in the first three months of the year, after that, started a rollercoaster of ratings with a stabilization in the end of the year.",
   "id": "1d25d52b9cc68bfe"
  },
  {
   "metadata": {},
   "cell_type": "markdown",
   "source": [
    "8. Impact of Release Year:\n",
    "- Analyze if there is any correlation between the release year of a movie and its average rating.\n",
    "- Create a scatter plot showing the relationship between the release year and the average rating.\n",
    "- Discuss any observable patterns or correlations.\n"
   ],
   "id": "e41fdce796401d95"
  },
  {
   "metadata": {
    "ExecuteTime": {
     "end_time": "2025-03-04T22:05:37.722789Z",
     "start_time": "2025-03-04T22:05:37.717345Z"
    }
   },
   "cell_type": "code",
   "source": "movies_reviews.columns",
   "id": "b62c02fceefd9dde",
   "outputs": [
    {
     "data": {
      "text/plain": [
       "Index(['movie_id', 'title', 'genre', 'release_year', 'review_id', 'reviewer',\n",
       "       'rating', 'review_date', 'movie_average_rating', 'year_month',\n",
       "       'month_average_r'],\n",
       "      dtype='object')"
      ]
     },
     "execution_count": 21,
     "metadata": {},
     "output_type": "execute_result"
    }
   ],
   "execution_count": 21
  },
  {
   "metadata": {
    "ExecuteTime": {
     "end_time": "2025-03-04T22:14:05.686472Z",
     "start_time": "2025-03-04T22:14:05.606872Z"
    }
   },
   "cell_type": "code",
   "source": "movies_reviews.plot.scatter(x='release_year', y='movie_average_rating', figsize=(10, 6), grid=True, xlabel = 'Release Year', ylabel = 'Movie Average Rating', color='olive')",
   "id": "e7be0943811e45c4",
   "outputs": [
    {
     "data": {
      "text/plain": [
       "<Axes: xlabel='Release Year', ylabel='Movie Average Rating'>"
      ]
     },
     "execution_count": 32,
     "metadata": {},
     "output_type": "execute_result"
    },
    {
     "data": {
      "text/plain": [
       "<Figure size 1000x600 with 1 Axes>"
      ],
      "image/png": "[encoded data removed]"
     },
     "metadata": {},
     "output_type": "display_data"
    }
   ],
   "execution_count": 32
  },
  {
   "metadata": {},
   "cell_type": "markdown",
   "source": "There's a high rating until the 20s, after that, a good amount of lower ratings. Started to grow again after 2015.",
   "id": "4acb6461b483760e"
  },
  {
   "metadata": {},
   "cell_type": "markdown",
   "source": [
    "9. Reviewer Consistency:\n",
    "- For each reviewer, calculate the standard deviation of their ratings.\n",
    "- Identify the most and least consistent reviewers based on the standard deviation of their ratings.\n",
    "- Display the names of these reviewers along with their standard deviations.\n"
   ],
   "id": "1420cbe48c6f0dad"
  },
  {
   "metadata": {
    "ExecuteTime": {
     "end_time": "2025-03-04T22:33:38.309844Z",
     "start_time": "2025-03-04T22:33:38.303870Z"
    }
   },
   "cell_type": "code",
   "source": [
    "standard_deviation = movies_reviews.groupby('reviewer')['rating'].std()\n",
    "most_consistent = standard_deviation.idxmin()\n",
    "least_consistent = standard_deviation.idxmax()\n",
    "print(f\"The most consistent reviewer is {most_consistent}, deviation: {standard_deviation.min():.2f}\")\n",
    "print(f\"The least consistent reviewer is {least_consistent}, deviation:  {standard_deviation.max():.2f}\")\n",
    "standard_deviation"
   ],
   "id": "1d3fd0a93ee0bd39",
   "outputs": [
    {
     "name": "stdout",
     "output_type": "stream",
     "text": [
      "The most consistent reviewer is Noah Robinson, deviation: 1.77\n",
      "The least consistent reviewer is Zane Carter, deviation:  3.57\n"
     ]
    },
    {
     "data": {
      "text/plain": [
       "reviewer\n",
       "Alice Johnson     3.293094\n",
       "Bob Brown         2.961681\n",
       "Charlie Davis     2.205145\n",
       "Emily Evans       2.277645\n",
       "Frank Wilson      2.596618\n",
       "Grace Lee         2.192273\n",
       "Henry Harris      2.610273\n",
       "Ivy White         1.875449\n",
       "Jack Martin       2.849389\n",
       "Jane Doe          2.718823\n",
       "John Smith        2.127373\n",
       "Kathy Thompson    2.426857\n",
       "Liam Garcia       2.314586\n",
       "Mia Martinez      2.092773\n",
       "Noah Robinson     1.773415\n",
       "Olivia Clark      2.438290\n",
       "Paul Lewis        1.913984\n",
       "Quinn Walker      2.323360\n",
       "Ryan Hall         2.221255\n",
       "Sophia Allen      2.719473\n",
       "Tom Young         2.556652\n",
       "Uma King          2.742748\n",
       "Victor Scott      1.940003\n",
       "Wendy Green       2.708807\n",
       "Xander Adams      2.214598\n",
       "Yara Baker        3.128221\n",
       "Zane Carter       3.567718\n",
       "Name: rating, dtype: float64"
      ]
     },
     "execution_count": 53,
     "metadata": {},
     "output_type": "execute_result"
    }
   ],
   "execution_count": 53
  },
  {
   "metadata": {},
   "cell_type": "markdown",
   "source": [
    "10. Challenge Task - Genre Popularity Over Time:\n",
    "- Analyze how the popularity of different genres has changed over time.\n",
    "- Group the joined dataframe by `genre` and the year extracted from the `review_date` column.\n",
    "- Calculate the number of reviews for each genre per month.\n",
    "- Create a line plot for each genre showing the number of reviews over time.\n",
    "- Discuss any trends or shifts in genre popularity over time"
   ],
   "id": "c18f1f368166e87d"
  },
  {
   "metadata": {
    "ExecuteTime": {
     "end_time": "2025-03-04T23:04:34.758076Z",
     "start_time": "2025-03-04T23:04:34.667890Z"
    }
   },
   "cell_type": "code",
   "source": [
    "genre_counts = movies_reviews.groupby([\"year_month\", \"genre\"]).size().unstack(fill_value=0)\n",
    "\n",
    "genre_counts.plot(kind=\"line\", figsize=(10, 5), marker=\"o\", colormap = 'Accent')\n",
    "\n",
    "plt.title(\"Genre Popularity Over Time\")\n",
    "plt.xlabel(\"Year-Month\")\n",
    "plt.ylabel(\"Number of Reviews\")\n",
    "plt.legend(title=\"Genre\", loc=\"upper right\", bbox_to_anchor=(1, 1))\n",
    "plt.grid(True)\n",
    "plt.xticks(rotation=45)\n",
    "\n",
    "plt.show()"
   ],
   "id": "5416b9cc94205447",
   "outputs": [
    {
     "data": {
      "text/plain": [
       "<Figure size 1000x500 with 1 Axes>"
      ],
      "image/png": "[encoded data removed]"
     },
     "metadata": {},
     "output_type": "display_data"
    }
   ],
   "execution_count": 87
  },
  {
   "metadata": {},
   "cell_type": "markdown",
   "source": "Action and Fantasy, start strong but gradually fade, while others, like Sci-Fi and Drama, gain momentum as the months go by. Crime and Biography genres have their ups and downs, showing that audience interest constantly shifts.",
   "id": "e5a692cd01d83f08"
  }
 ],
 "metadata": {
  "kernelspec": {
   "display_name": "Python 3",
   "language": "python",
   "name": "python3"
  },
  "language_info": {
   "codemirror_mode": {
    "name": "ipython",
    "version": 2
   },
   "file_extension": ".py",
   "mimetype": "text/x-python",
   "name": "python",
   "nbconvert_exporter": "python",
   "pygments_lexer": "ipython2",
   "version": "2.7.6"
  }
 },
 "nbformat": 4,
 "nbformat_minor": 5
}
